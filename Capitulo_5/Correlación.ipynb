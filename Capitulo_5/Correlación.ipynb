{
 "cells": [
  {
   "cell_type": "markdown",
   "metadata": {},
   "source": [
    "# Correlación\n",
    "**Autor:** Martínez Torres Marcos Alfonso, Facultad de Ingeniería, UNAM\n",
    "\n",
    "Licensed under <a href=\"https://creativecommons.org/licenses/by-nc-nd/4.0?ref=chooser-v1\">Attribution-NonCommercial-NoDerivatives 4.0 International</a>"
   ]
  },
  {
   "cell_type": "markdown",
   "metadata": {},
   "source": [
    "Se importan las bibliotecas de Python\n",
    "* *numpy* : Permite crear y gestionar arreglos multidimensionales, junto con una gran colección de funciones matemáticas de alto nivel que operan sobre estos arreglos. El sitio oficial es https://numpy.org/\n",
    "* *matplotlib* : Permite crear visualizaciones estáticas, animadas e interactivas en 2D y 3D. El sitio oficial es https://matplotlib.org/\n",
    "* *ipywidgets*: Esta biblioteca proporciona herramientas interactivas para crear widgets en Jupyter Notebooks y JupyterLab. El sitio oficial es https://jupyter.org/"
   ]
  },
  {
   "cell_type": "code",
   "execution_count": 1,
   "metadata": {},
   "outputs": [
    {
     "ename": "ModuleNotFoundError",
     "evalue": "No module named 'ipywidgets'",
     "output_type": "error",
     "traceback": [
      "\u001b[0;31m---------------------------------------------------------------------------\u001b[0m",
      "\u001b[0;31mModuleNotFoundError\u001b[0m                       Traceback (most recent call last)",
      "Cell \u001b[0;32mIn[1], line 3\u001b[0m\n\u001b[1;32m      1\u001b[0m \u001b[38;5;28;01mimport\u001b[39;00m \u001b[38;5;21;01mnumpy\u001b[39;00m \u001b[38;5;28;01mas\u001b[39;00m \u001b[38;5;21;01mnp\u001b[39;00m\n\u001b[1;32m      2\u001b[0m \u001b[38;5;28;01mimport\u001b[39;00m \u001b[38;5;21;01mmatplotlib\u001b[39;00m\u001b[38;5;21;01m.\u001b[39;00m\u001b[38;5;21;01mpyplot\u001b[39;00m \u001b[38;5;28;01mas\u001b[39;00m \u001b[38;5;21;01mplt\u001b[39;00m\n\u001b[0;32m----> 3\u001b[0m \u001b[38;5;28;01mfrom\u001b[39;00m \u001b[38;5;21;01mipywidgets\u001b[39;00m \u001b[38;5;28;01mimport\u001b[39;00m interact, IntSlider\n\u001b[1;32m      4\u001b[0m \u001b[38;5;28;01mimport\u001b[39;00m \u001b[38;5;21;01mipywidgets\u001b[39;00m \u001b[38;5;28;01mas\u001b[39;00m \u001b[38;5;21;01mwidgets\u001b[39;00m\n",
      "\u001b[0;31mModuleNotFoundError\u001b[0m: No module named 'ipywidgets'"
     ]
    }
   ],
   "source": [
    "import numpy as np\n",
    "import matplotlib.pyplot as plt\n",
    "from ipywidgets import interact, IntSlider\n",
    "import ipywidgets as widgets"
   ]
  },
  {
   "cell_type": "markdown",
   "metadata": {},
   "source": [
    "## Teoría"
   ]
  },
  {
   "cell_type": "markdown",
   "metadata": {},
   "source": [
    "### Integral de correlación"
   ]
  },
  {
   "cell_type": "markdown",
   "metadata": {},
   "source": [
    "La integral de correlación se define como:\n",
    "$$\n",
    "\\mathscr{R}_{xh}(t)\\:=\\:\\int_{-\\infty}^{\\infty}{\\mathscr{x}(\\tau)\\mathscr{h}(\\tau -t)}d\\tau \n",
    "$$\n",
    "Que es una expresión muy similar a la integral de convolución, la única diferencia es que esta operación no se efectúa el plegamiento en ninguna de las dos funciones.\n",
    "\n",
    "<center><img src=\"correlacion_acumulada.gif\" alt=\"Integral de correlacion, ejemplo\" />"
   ]
  },
  {
   "cell_type": "markdown",
   "metadata": {},
   "source": [
    "### Evaluación gráfica"
   ]
  },
  {
   "cell_type": "code",
   "execution_count": null,
   "metadata": {},
   "outputs": [],
   "source": [
    "# Función de la primera gráfica\n",
    "def e(t):\n",
    "    return np.where((t>=0) & (t<=1),1,0)\n",
    "\n",
    "# Función de la segunda gráfica\n",
    "def h(t):\n",
    "    return np.where((t>=0) & (t<=1),t,0)"
   ]
  },
  {
   "cell_type": "markdown",
   "metadata": {},
   "source": [
    "Para observar cuál es la diferencia que existe entre la integral entre la integral de convolución y la de correlación, analicemos ambas operaciones gráficamente, para ello desarrolemos la convolución y la correlación de las siguientes funciones:\n",
    "\n",
    "<center><img src=\"Paso1.png\" alt=\"Paso 1\" />"
   ]
  },
  {
   "cell_type": "markdown",
   "metadata": {},
   "source": [
    "En ambas operaciones cambiamos la variable t por $\\tau$. En la integral de correlación solo solo se cambia la variable h($\\tau$)\n",
    "\n",
    "<center><img src=\"Paso2.png\" alt=\"Paso 2\" />"
   ]
  },
  {
   "cell_type": "markdown",
   "metadata": {},
   "source": [
    "#### Paso 1: Desplazamiento"
   ]
  },
  {
   "cell_type": "markdown",
   "metadata": {},
   "source": [
    "A continuación para la correlación desplazamos a la función h($\\tau$-t) si el corrimiento es la derecha, y como h($\\tau$+t) si es a la izquierda\n",
    "\n",
    "<center><img src=\"Paso3.1.png\" alt=\"Paso 3\" />\n",
    "<center><img src=\"Paso3.2.png\" alt=\"Paso 3\" />"
   ]
  },
  {
   "cell_type": "markdown",
   "metadata": {},
   "source": [
    "#### Paso 2: Multiplicación"
   ]
  },
  {
   "cell_type": "markdown",
   "metadata": {},
   "source": [
    "Para realizar la correlación, como se establece en la definición, es necesario multiplicar la función $\\mathscr{e}(\\tau)$ por cada valor desplazado de la función $\\mathscr{h}(\\tau)$ e integrar el producto. El valor de desplazamiento del desplazamiento t se toma de $-\\infty$ a $\\infty$.<br>\n",
    "Para nuestro ejemplo, si tomamos un desplazamiento cada $0.25$, podemos observar graficamente como se va comportando nuestra convolución en estos puntos. Por ejemplo, si se tiene un desplazamiento $t = 0$, el area de las dos funciones es cero."
   ]
  },
  {
   "cell_type": "markdown",
   "metadata": {},
   "source": [
    "##### Codigo 1"
   ]
  },
  {
   "cell_type": "code",
   "execution_count": null,
   "metadata": {},
   "outputs": [
    {
     "name": "stderr",
     "output_type": "stream",
     "text": [
      "C:\\Users\\Marcos\\AppData\\Local\\Temp\\ipykernel_12512\\99203504.py:11: DeprecationWarning: `trapz` is deprecated. Use `trapezoid` instead, or one of the numerical integration functions in `scipy.integrate`.\n",
      "  return np.trapz(integrando, t_int)\n"
     ]
    },
    {
     "data": {
      "application/vnd.jupyter.widget-view+json": {
       "model_id": "7dfa81f387d54f548abbd31d99342b1c",
       "version_major": 2,
       "version_minor": 0
      },
      "text/plain": [
       "interactive(children=(IntSlider(value=0, description='t', max=99), Output()), _dom_classes=('widget-interact',…"
      ]
     },
     "metadata": {},
     "output_type": "display_data"
    },
    {
     "data": {
      "text/plain": [
       "<function __main__.actualizar(frame)>"
      ]
     },
     "execution_count": 7,
     "metadata": {},
     "output_type": "execute_result"
    }
   ],
   "source": [
    "# Funciones\n",
    "def e(t):\n",
    "    return np.where((t >= 0) & (t <= 1), 1, 0)\n",
    "\n",
    "def h(t, desp):\n",
    "    return np.where((t >= -desp) & (t <= 1 - desp), t + desp, 0)\n",
    "\n",
    "def correlacion_valor(t_val):\n",
    "    t_int = np.linspace(-1, 2, 1000)\n",
    "    integrando = e(t_int) * h(t_int, t_val)\n",
    "    return np.trapz(integrando, t_int)\n",
    "\n",
    "# Dominio temporal\n",
    "t_vals = np.linspace(-1, 2, 100)\n",
    "r_vals = np.array([correlacion_valor(tv) for tv in t_vals])\n",
    "t_tau = np.linspace(-3, 3, 1000)\n",
    "\n",
    "# Función para actualización\n",
    "def actualizar(frame):\n",
    "    t_shift = t_vals[frame]\n",
    "    h_t = h(t_tau, t_shift)\n",
    "\n",
    "    # Gráfica 1: superposición\n",
    "    fig, (ax1, ax2) = plt.subplots(1, 2, figsize=(12, 5))\n",
    "\n",
    "    ax1.plot(t_tau, e(t_tau), label='x(τ)', color='blue')\n",
    "    ax1.plot(t_tau, h_t, label='h(t+τ)', color='red')\n",
    "    ax1.fill_between(t_tau, e(t_tau) * h_t, color='green', alpha=0.5)\n",
    "    ax1.set_xlim(-1, 2)\n",
    "    ax1.set_ylim(0, 1.5)\n",
    "    ax1.set_xlabel('τ')\n",
    "    ax1.set_title(f'Superposición en t = {t_shift:.2f}')\n",
    "    ax1.legend()\n",
    "\n",
    "    # Gráfica 2: correlación acumulada\n",
    "    ax2.plot(t_vals[:frame+1], r_vals[:frame+1], label='r(t)', color='purple')\n",
    "    ax2.set_xlim(-1, 2)\n",
    "    ax2.set_ylim(0, max(r_vals) + 0.1)\n",
    "    ax2.set_xlabel('t')\n",
    "    ax2.set_title('Correlación cruzada $r_{xh}(t)$')\n",
    "    ax2.legend()\n",
    "\n",
    "    plt.tight_layout()\n",
    "    plt.show()\n",
    "\n",
    "# Widget interactivo\n",
    "interact(actualizar, frame=IntSlider(min=0, max=len(t_vals)-1, step=1, value=0, description='t'))"
   ]
  },
  {
   "cell_type": "markdown",
   "metadata": {},
   "source": [
    "### Evaluación analítica"
   ]
  },
  {
   "cell_type": "markdown",
   "metadata": {},
   "source": [
    "Las funciones $ x(t) $ y $ h(t) $ están definidas como:\n",
    "\n",
    "$$\n",
    "x(t) =\n",
    "\\begin{cases}\n",
    "1 & ;\\quad 0 \\leq t \\leq 1 \\\\\n",
    "0 & ;\\quad \\forall t \\text{ fuera de ese intervalo}\n",
    "\\end{cases}\n",
    "\\qquad\n",
    "h(t) =\n",
    "\\begin{cases}\n",
    "t & ;\\quad 0 \\leq t \\leq 1 \\\\\n",
    "0 & ;\\quad \\forall t \\text{ fuera de ese intervalo}\n",
    "\\end{cases}\n",
    "$$\n",
    "\n",
    "La correlación cruzada $ \\mathcal{R}_{xh}(t) $ está dada por:\n",
    "\n",
    "$$\n",
    "\\mathcal{R}_{xh}(t) = \\int_{-\\infty}^{+\\infty} x(\\tau)\\, h(t - \\tau)\\, d\\tau\n",
    "$$\n",
    "\n",
    "Para determinar los límites de integración se considera el soporte de las funciones:\n",
    "\n",
    "| Función          | Límite inferior | Límite superior |\n",
    "|------------------|------------------|------------------|\n",
    "| $ x(\\tau) $     | 0                | 1                |\n",
    "| $ h(t - \\tau) $ | $ t $          | $ t + 1 $    |\n"
   ]
  },
  {
   "cell_type": "markdown",
   "metadata": {},
   "source": [
    "La función de correlación cruzada $ \\mathcal{R}_{xh}(t) $ está definida como:\n",
    "\n",
    "$$\n",
    "\\mathcal{R}_{xh}(t) =\n",
    "\\begin{cases}\n",
    "0 \\\\\n",
    "\\int_0^{t+1} (1)(\\tau - t) \\, d\\tau \\\\\n",
    "\\int_t^1 (1)(\\tau - t) \\, d\\tau & \\\\\n",
    "0 \n",
    "\\end{cases}\n",
    "$$\n",
    "\n",
    "Por lo tanto,\n",
    "\n",
    "$$\n",
    "\\mathcal{R}_{xh}(t) = \\int_a^b (1)(\\tau - t)\\, d\\tau = \\left[\\frac{\\tau^2}{2} - t\\tau\\right]_a^b\n",
    "$$\n",
    "\n",
    "Para cada intervalo determinado:\n",
    "\n",
    "Evaluando:\n",
    "\n",
    "Para $ -1 < t \\leq 0 $:\n",
    "\n",
    "$$\n",
    "I_1 = \\left[\\frac{\\tau^2}{2} - t\\tau \\right]_0^{t+1} =\n",
    "\\frac{(t+1)^2}{2} - t(t+1) = \\frac{t^2 + 2t + 1}{2} - t^2 - t = \\frac{1 - t^2}{2}\n",
    "$$\n",
    "\n",
    "Para $ 0 < t \\leq 1 $:\n",
    "\n",
    "$$\n",
    "I_2 = \\left[\\frac{\\tau^2}{2} - t\\tau \\right]_t^1 =\n",
    "\\left( \\frac{1}{2} - t \\right) - \\left( \\frac{t^2}{2} - t^2 \\right) =\n",
    "\\frac{1 - 2t + t^2}{2} = \\frac{(t - 1)^2}{2}\n",
    "$$\n",
    "\n",
    "Entonces la función completa de correlación es:\n",
    "\n",
    "$$\n",
    "\\mathcal{R}_{xh}(t) =\n",
    "\\begin{cases}\n",
    "0 & ;\\quad t \\leq -1 \\\\\n",
    "\\frac{1}{2}(1 - t^2) & ;\\quad -1 < t \\leq 0 \\\\\n",
    "\\frac{1}{2}(t - 1)^2 & ;\\quad 0 < t \\leq 1 \\\\\n",
    "0 & ;\\quad t > 1\n",
    "\\end{cases}\n",
    "$$\n"
   ]
  },
  {
   "cell_type": "markdown",
   "metadata": {},
   "source": [
    "### Teorema de la correlación"
   ]
  },
  {
   "cell_type": "markdown",
   "metadata": {},
   "source": [
    "El teorema de la correlación señala la relación existente entre la integral de correlación y la transformada de Fourier. A esta relación se le conoce como el **teorema de la correlación**.\n",
    "\n",
    "$$\n",
    "\\mathcal{F}\\{\\mathcal{R}_{xh}(t)\\} = \\textbf{H}(\\mathcal{f}) \\textbf{X}^{*}(\\mathcal{f})\n",
    "$$\n",
    "\n",
    "Esta expresión representa el teorema de la correlación, el cual nos dice que la correlación en el dominio del tiempo de dos funciones es equivalente a la multiplicación de la transformada de Fourier de una función con el conjugado de la transformada de Fourier de la otra, todo en el dominio de la frecuencia."
   ]
  }
 ],
 "metadata": {
  "kernelspec": {
   "display_name": "Python 3",
   "language": "python",
   "name": "python3"
  },
  "language_info": {
   "codemirror_mode": {
    "name": "ipython",
    "version": 3
   },
   "file_extension": ".py",
   "mimetype": "text/x-python",
   "name": "python",
   "nbconvert_exporter": "python",
   "pygments_lexer": "ipython3",
   "version": "3.12.3"
  }
 },
 "nbformat": 4,
 "nbformat_minor": 2
}
