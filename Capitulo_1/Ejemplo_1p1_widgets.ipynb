{
 "cells": [
  {
   "cell_type": "markdown",
   "metadata": {},
   "source": [
    "# Ejemplo 1.1 de las notas de Anguiano\n",
    "**Autor:** Martínez Torres Marcos Alfonso, Facultad de Ingeniería, UNAM\n",
    "\n",
    "Licensed under <a href=\"https://creativecommons.org/licenses/by-nc-nd/4.0?ref=chooser-v1\">Attribution-NonCommercial-NoDerivatives 4.0 International</a>"
   ]
  },
  {
   "cell_type": "markdown",
   "metadata": {},
   "source": [
    "## Ejemplo 1.1\n",
    "\n",
    "Aproximar $f(t)=\\cos\\left(\\frac{\\pi}{2}t\\right)$ con un polinomio que coincida en $\\{-1,0,1\\}$"
   ]
  },
  {
   "cell_type": "markdown",
   "metadata": {},
   "source": [
    "### Solución\n",
    "Se importan las bibliotecas de Python\n",
    "* *numpy* : Permite crear y gestionar arreglos multidimensionales, junto con una gran colección de funciones matemáticas de alto nivel que operan sobre estos arreglos. El sitio oficial es https://numpy.org/\n",
    "* *matplotlib* : Permite crear visualizaciones estáticas, animadas e interactivas en 2D y 3D. El sitio oficial es https://matplotlib.org/\n",
    "* *ipywidgets*: Esta biblioteca proporciona herramientas interactivas para crear widgets en Jupyter Notebooks y JupyterLab. El sitio oficial es https://jupyter.org/\n",
    "* *IPython*: Esta biblioteca proporciona funciones para mostrar varios tipos de objetos en la salida de un cuaderno de Jupyter, incluidos texto, imágenes, audio, video y widgets. La función \"display\" es comúnmente utilizada para mostrar objetos en la salida del cuaderno, lo que permite una presentación más rica y dinámica de los resultados y visualizaciones generadas por el código. El sitio oficial es https://jupyter.org/\n"
   ]
  },
  {
   "cell_type": "code",
   "execution_count": 1,
   "metadata": {},
   "outputs": [],
   "source": [
    "import numpy as np\n",
    "import matplotlib.pyplot as plt\n",
    "import ipywidgets as widgets\n",
    "from IPython.display import display"
   ]
  },
  {
   "cell_type": "markdown",
   "metadata": {},
   "source": [
    "Se construye el arreglo *numpy*  de la función   \" *t* \" que va a estar dentro del intervalo $-1\\leq t\\leq 1$."
   ]
  },
  {
   "cell_type": "code",
   "execution_count": 2,
   "metadata": {},
   "outputs": [],
   "source": [
    "# Vector de numpy de la variable independiente pidiendo al usuario que ingrese el vector\n",
    "t = np.linspace(-1, 1, 100)"
   ]
  },
  {
   "cell_type": "markdown",
   "metadata": {},
   "source": [
    "Se definen la cantidad de puntos para la aproximación"
   ]
  },
  {
   "cell_type": "code",
   "execution_count": 3,
   "metadata": {},
   "outputs": [],
   "source": [
    "#Definir la cantidad de puntos a evaluar\n",
    "n = 3\n",
    "# Crear una lista para almacenar los puntos\n",
    "puntos = [-1, 0, 1]"
   ]
  },
  {
   "cell_type": "markdown",
   "metadata": {},
   "source": [
    "Se construye la función original"
   ]
  },
  {
   "cell_type": "code",
   "execution_count": 4,
   "metadata": {},
   "outputs": [],
   "source": [
    "# Vector de numpy con la evaluación de la función que se quiere aproximar\n",
    "f = np.cos(np.pi/2*t)"
   ]
  },
  {
   "cell_type": "markdown",
   "metadata": {},
   "source": [
    "Graficamos la funcion original"
   ]
  },
  {
   "cell_type": "code",
   "execution_count": 5,
   "metadata": {},
   "outputs": [
    {
     "data": {
      "image/png": "[encoded data removed]",
      "text/plain": [
       "<Figure size 432x288 with 1 Axes>"
      ]
     },
     "metadata": {
      "needs_background": "light"
     },
     "output_type": "display_data"
    }
   ],
   "source": [
    "# Se crea la figura\n",
    "fig = plt.figure()\n",
    "\n",
    "# Se grafica el vector de la función con respecto al vector de la variable independiente\n",
    "plt.plot(t, f)\n",
    "\n",
    "# Se edita la figura\n",
    "plt.xlabel('$t$',fontsize=12) # Se escribe la etiqueta del eje de la variable indpendiente en tamaño de letra 12\n",
    "plt.ylabel('$f(t)$',fontsize=12) # Se escribe la etiqueta del eje de la función en tamaño de letra 12\n",
    "plt.suptitle('Función original', weight='bold') # Se escribe el título de la gráfica \n",
    "plt.grid() # Se grafica la cuadrícula\n",
    "\n",
    "# Se muestra la figura\n",
    "plt.show()"
   ]
  },
  {
   "cell_type": "markdown",
   "metadata": {},
   "source": [
    "Definimos una función en la que establecemos al   $p_2 = 0$ , como variable para que pueda ser modificado con widgets, la funcion abarcara todas las operaciones y funciones que contengan a la variable.<br>\n",
    "**NOTA:** Recordar que el indice en los arreglos empieza desde 0 por lo que el punto  $p_2$  es la posición 1 en el arreglo *puntos*"
   ]
  },
  {
   "cell_type": "code",
   "execution_count": 6,
   "metadata": {},
   "outputs": [],
   "source": [
    "# Función para actualizar la gráfica\n",
    "def grafica_interactiva(p2):\n",
    "    puntos[1] = p2\n",
    "    \n",
    "    # Evaluar la función en los puntos ingresados por el usuario\n",
    "    rhs = np.cos((np.pi / 2) * np.array(puntos))\n",
    "\n",
    "    # Creamos la matriz que está en función de los puntos y del orden del polinomio\n",
    "    M = np.vander(puntos, n, increasing=True)\n",
    "\n",
    "    coef = np.matmul(np.linalg.inv(M),np.transpose(rhs))\n",
    "\n",
    "    fa = np.polyval(np.flipud(coef), t)\n",
    "\n",
    "    # Limpiar la figura anterior\n",
    "    plt.clf()\n",
    "\n",
    "    # Se grafica el vector de la función original con respecto al vector de la variable independiente\n",
    "    plt.plot(t, f, label='$f(t)$')\n",
    "\n",
    "    # Se grafica el vector de la función aproximada con respecto al vector de la variable independiente\n",
    "    plt.plot(t, fa, label='$f_a(t)$')\n",
    "\n",
    "    # Se edita la figura\n",
    "    plt.xlabel('$t$', fontsize=12)  # Se escribe la etiqueta del eje de la variable independiente en tamaño de letra 12\n",
    "    plt.suptitle('Comparación de la función original con la aproximada', weight='bold')  # Se escribe el título de la gráfica\n",
    "    plt.grid()  # Se grafica la cuadrícula\n",
    "    plt.legend()  # Se imprime la leyenda\n",
    "    plt.show()"
   ]
  },
  {
   "cell_type": "markdown",
   "metadata": {},
   "source": [
    "La grafica anterior solamente se guarda dentro de la función, pero no se imprime"
   ]
  },
  {
   "cell_type": "markdown",
   "metadata": {},
   "source": [
    "Creamos y vinculamos el widget a la función, posteriormente llamamos a la función ya interactiva"
   ]
  },
  {
   "cell_type": "code",
   "execution_count": 7,
   "metadata": {},
   "outputs": [
    {
     "data": {
      "application/vnd.jupyter.widget-view+json": {
       "model_id": "29cffd286bf44e39b12e1d4fba1d1025",
       "version_major": 2,
       "version_minor": 0
      },
      "text/plain": [
       "interactive(children=(FloatSlider(value=0.0, continuous_update=False, description='Valor de p2:', max=0.99, mi…"
      ]
     },
     "metadata": {},
     "output_type": "display_data"
    }
   ],
   "source": [
    "# Crear widget deslizante para modificar p1\n",
    "widget = widgets.FloatSlider(\n",
    "    value=0,\n",
    "    min=-0.99,\n",
    "    max=0.99,\n",
    "    step=0.01,\n",
    "    description='Valor de p2:',\n",
    "    continuous_update=False\n",
    ")\n",
    "\n",
    "# Vincular el widget con la función actualizar_grafica\n",
    "widgets.interactive(grafica_interactiva, p2=widget)"
   ]
  },
  {
   "cell_type": "code",
   "execution_count": null,
   "metadata": {},
   "outputs": [],
   "source": []
  }
 ],
 "metadata": {
  "kernelspec": {
   "display_name": "Python 3",
   "language": "python",
   "name": "python3"
  },
  "language_info": {
   "codemirror_mode": {
    "name": "ipython",
    "version": 3
   },
   "file_extension": ".py",
   "mimetype": "text/x-python",
   "name": "python",
   "nbconvert_exporter": "python",
   "pygments_lexer": "ipython3",
   "version": "3.7.3"
  }
 },
 "nbformat": 4,
 "nbformat_minor": 5
}
