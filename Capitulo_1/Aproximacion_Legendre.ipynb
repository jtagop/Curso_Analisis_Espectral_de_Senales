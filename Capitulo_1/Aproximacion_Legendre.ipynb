{
 "cells": [
  {
   "cell_type": "markdown",
   "metadata": {},
   "source": [
    "# Aproximación por Polinomios de Legendre\n",
    "**Autor:** Martínez Torres Marcos Alfonso, Facultad de Ingeniería, UNAM\n",
    "\n",
    "Licensed under <a href=\"https://creativecommons.org/licenses/by-nc-nd/4.0?ref=chooser-v1\">Attribution-NonCommercial-NoDerivatives 4.0 International</a>"
   ]
  },
  {
   "cell_type": "markdown",
   "metadata": {},
   "source": [
    "## Teoría"
   ]
  },
  {
   "cell_type": "markdown",
   "metadata": {},
   "source": [
    "Anteriormente observamos que los polinomios de Legendre forman un conjunto ortogonal en el intervalo $t\\:\\epsilon\\:(-1,\\;1)$, cumpliendo lo siguiente:\n",
    "$$\n",
    "\\int_{-1}^{1} {P_n(t)P_m(t)}dt = \n",
    "\\begin{cases} \n",
    "0, & \\text{; } m \\neq n \\\\ \n",
    "\\frac{2}{n+1}, & \\text{; } m = n \n",
    "\\end{cases}\n",
    "$$\n",
    "Usando la ecuación de 1.45 de las notas de Anguiano, ahora aplicada a los polinomios de Legendre obtenemos:\n",
    "$$\n",
    "A_{k}=\\frac{\\int_{-1}^{1}{f(t)P_{k}(t)}dt}{\\int_{-1}^{1}{[P_{k}(t)]^{2}dt}}\n",
    "$$\n",
    "Y por la condición de ortogonalidad dada anteriormente para los polinomios de Legendre,\n",
    "$$\n",
    "A_{k} = \\frac{2k+1}{2}\\int_{-1}^{1}{f(t)P_{k}(t)dt}"
   ]
  },
  {
   "cell_type": "markdown",
   "metadata": {},
   "source": [
    "## Ejemplo 1.4 de las notas de Anguiano\n",
    "\n"
   ]
  },
  {
   "cell_type": "markdown",
   "metadata": {},
   "source": [
    "Aproximar la función\n",
    "$$f(t) = cos\\left(\\frac{\\pi}{2}t\\right)$$\n",
    "En el intervalo $t\\:\\epsilon\\:(-1,\\;1)$ por la suma de los tres primeros polinomios de Legendre\n",
    "$$\n",
    "\\begin{align}\n",
    "f_{a}(t) =& A_{0}P_{0}(t) + A_{1}P_{1}(t) + A_{2}P_{2}(t) \\notag \\\\\n",
    "f_{a}(t) =& A_{0} + A_{1}t + A_{2}\\left(\\frac{3}{2}t^{2} - \\frac{1}{2}\\right) \\notag\n",
    "\\end{align}\n",
    "$$"
   ]
  },
  {
   "cell_type": "markdown",
   "metadata": {},
   "source": [
    "### Solución\n",
    "Se importan las bibliotecas de Python\n",
    "* *numpy* : Permite crear y gestionar arreglos multidimensionales, junto con una gran colección de funciones matemáticas de alto nivel que operan sobre estos arreglos. El sitio oficial es https://numpy.org/\n",
    "* *matplotlib* : Permite crear visualizaciones estáticas, animadas e interactivas en 2D y 3D. El sitio oficial es https://matplotlib.org/"
   ]
  },
  {
   "cell_type": "code",
   "execution_count": 1,
   "metadata": {},
   "outputs": [],
   "source": [
    "import numpy as np\n",
    "import matplotlib.pyplot as plt\n",
    "from scipy.integrate import quad\n",
    "from math import factorial"
   ]
  },
  {
   "cell_type": "markdown",
   "metadata": {},
   "source": [
    "Reusamos nuestra función que calcula los polinomios de Legendre"
   ]
  },
  {
   "cell_type": "code",
   "execution_count": 2,
   "metadata": {},
   "outputs": [],
   "source": [
    "def polinomio_legendre (n,t):\n",
    "    coeficiente = 1/(2**n * factorial(n)) #Coeficiente de la formula\n",
    "    # Calcular la derivada n-ésima de (t^2 - 1)^n\n",
    "    # np.poly1d crea un polinomio a partir de sus coeficientes\n",
    "    base = np.poly1d([1, 0, -1])**n  # Esto representa (t^2 - 1)^n\n",
    "    derivada = np.polyder(base, n)  # Derivada n-ésima de la base\n",
    "    Pn = coeficiente * derivada(t)\n",
    "    return Pn #Retornamos el valor del polinomio\n",
    "\n",
    "t = np.linspace(-1,1,100) #Vector t para evaluar al polinomio"
   ]
  },
  {
   "cell_type": "markdown",
   "metadata": {},
   "source": [
    "Definimos nuestro integrando"
   ]
  },
  {
   "cell_type": "code",
   "execution_count": 3,
   "metadata": {},
   "outputs": [],
   "source": [
    "# Función f(t)\n",
    "def f(t):\n",
    "    return np.cos(np.pi/2.*t)\n",
    "\n",
    "# Definimos el integrando como el producto de la función f(t) y el polinomio k-ésimo de Legrenge Pk(t)\n",
    "def integrando(t,k):\n",
    "    return f(t) * polinomio_legendre(k, t)"
   ]
  },
  {
   "cell_type": "markdown",
   "metadata": {},
   "source": [
    "Pedimos al usuario el grado del polinomio de Legendre"
   ]
  },
  {
   "cell_type": "code",
   "execution_count": 4,
   "metadata": {},
   "outputs": [
    {
     "name": "stdout",
     "output_type": "stream",
     "text": [
      "Cantidad de polinomios a crear: 5\n"
     ]
    }
   ],
   "source": [
    "n=int(input(\"Cantidad de polinomios a crear: \"))"
   ]
  },
  {
   "cell_type": "markdown",
   "metadata": {},
   "source": [
    "Calculamos nuestros coeficientes"
   ]
  },
  {
   "cell_type": "code",
   "execution_count": 5,
   "metadata": {},
   "outputs": [
    {
     "data": {
      "text/plain": [
       "array([[ 0.63661977],\n",
       "       [ 0.        ],\n",
       "       [-0.68708527],\n",
       "       [ 0.        ],\n",
       "       [ 0.05177895]])"
      ]
     },
     "execution_count": 5,
     "metadata": {},
     "output_type": "execute_result"
    }
   ],
   "source": [
    "# Creamos nuestro arreglo de coeficientes\n",
    "A = np.zeros([n,1])\n",
    "fa = 0\n",
    "\n",
    "# Ciclo para el cálculo de los coeficientes Ak\n",
    "for k in range(n):\n",
    "    integral,_ = quad(integrando, -1, 1,args=(k,))\n",
    "    coef = (2*k+1)/2\n",
    "    A[k] = coef*integral\n",
    "    fa += A[k]*polinomio_legendre(k,t)#Creamos la función aproximada\n",
    "#imprimimos los coeficientes Ak\n",
    "A"
   ]
  },
  {
   "cell_type": "markdown",
   "metadata": {},
   "source": [
    "Graficamos las funciones"
   ]
  },
  {
   "cell_type": "code",
   "execution_count": 6,
   "metadata": {},
   "outputs": [
    {
     "data": {
      "image/png": "[encoded data removed]",
      "text/plain": [
       "<Figure size 432x288 with 1 Axes>"
      ]
     },
     "metadata": {
      "needs_background": "light"
     },
     "output_type": "display_data"
    }
   ],
   "source": [
    "# Se crea la figura\n",
    "fig = plt.figure()\n",
    "\n",
    "# Se grafica el vector de la función original con respecto al vector de la variable independiente\n",
    "plt.plot(t, f(t), label='$f(t)$')\n",
    "\n",
    "# Se grafica el vector de la función aproximada con respecto al vector de la variable independiente\n",
    "plt.plot(t, fa, label='$f_a(t)$')\n",
    "\n",
    "# Se edita la figura\n",
    "plt.xlabel('$t$', fontsize=12)  # Se escribe la etiqueta del eje de la variable independiente en tamaño de letra 12\n",
    "plt.suptitle('Comparación de la función original con la aproximada', weight='bold')  # Se escribe el título de la gráfica\n",
    "plt.grid()  # Se grafica la cuadrícula\n",
    "plt.legend()  # Se imprime la leyenda\n",
    "\n",
    "# Mostrar la gráfica\n",
    "plt.show()"
   ]
  },
  {
   "cell_type": "code",
   "execution_count": null,
   "metadata": {},
   "outputs": [],
   "source": []
  }
 ],
 "metadata": {
  "kernelspec": {
   "display_name": "Python 3",
   "language": "python",
   "name": "python3"
  },
  "language_info": {
   "codemirror_mode": {
    "name": "ipython",
    "version": 3
   },
   "file_extension": ".py",
   "mimetype": "text/x-python",
   "name": "python",
   "nbconvert_exporter": "python",
   "pygments_lexer": "ipython3",
   "version": "3.7.3"
  }
 },
 "nbformat": 4,
 "nbformat_minor": 2
}
