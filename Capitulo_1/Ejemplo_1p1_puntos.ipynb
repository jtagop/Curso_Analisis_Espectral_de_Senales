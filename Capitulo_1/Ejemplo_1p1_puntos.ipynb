{
 "cells": [
  {
   "cell_type": "markdown",
   "metadata": {},
   "source": [
    "# Ejemplo 1.1 de las notas de Anguiano\n",
    "**Autor:** Martínez Torres Marcos Alfonso, Facultad de Ingeniería, UNAM\n",
    "\n",
    "Licensed under <a href=\"https://creativecommons.org/licenses/by-nc-nd/4.0?ref=chooser-v1\">Attribution-NonCommercial-NoDerivatives 4.0 International</a>"
   ]
  },
  {
   "cell_type": "markdown",
   "metadata": {},
   "source": [
    "## Ejemplo 1.1\n",
    "\n",
    "Aproximar $f(t)=\\cos\\left(\\frac{\\pi}{2}t\\right)$ con un polinomio que coincida en $\\{-1,0,1\\}$"
   ]
  },
  {
   "cell_type": "markdown",
   "metadata": {},
   "source": [
    "### Solución\n",
    "Se importan las bibliotecas de Python\n",
    "* *numpy* : Permite crear y gestionar arreglos multidimensionales, junto con una gran colección de funciones matemáticas de alto nivel que operan sobre estos arreglos. El sitio oficial es https://numpy.org/\n",
    "* *matplotlib* : Permite crear visualizaciones estáticas, animadas e interactivas en 2D y 3D. El sitio oficial es https://matplotlib.org/\n"
   ]
  },
  {
   "cell_type": "code",
   "execution_count": 12,
   "metadata": {},
   "outputs": [],
   "source": [
    "import numpy as np\n",
    "import matplotlib.pyplot as plt"
   ]
  },
  {
   "cell_type": "markdown",
   "metadata": {},
   "source": [
    "**NOTA**: Para convocar las funciones de una biblioteca en el código, abreviamos dicha función con el nombre que queramos.\n",
    "En este caso convocamos a *numpy* como np y la función *pyplot* de *matplotlib* como plt"
   ]
  },
  {
   "cell_type": "markdown",
   "metadata": {},
   "source": [
    "Se construye el arreglo *numpy*  de la función   \" *t* \" que va a estar dentro del intervalo $-1\\leq t\\leq 1$."
   ]
  },
  {
   "cell_type": "code",
   "execution_count": 13,
   "metadata": {},
   "outputs": [],
   "source": [
    "# Vector de numpy de la variable independiente pidiendo al usuario que ingrese el vector\n",
    "t = np.linspace(-1, 1, 100)"
   ]
  },
  {
   "cell_type": "markdown",
   "metadata": {},
   "source": [
    "**NOTA**: La función *np.linspace* de *numpy* es una herramienta útil para generar secuencias de números espaciados uniformemente dentro de un rango especificado."
   ]
  },
  {
   "cell_type": "markdown",
   "metadata": {},
   "source": [
    "Pedimos al usuario la cantidad de puntos que se quieren usar en la aproximación y validamos que esten en el intervalo de \"*t*\""
   ]
  },
  {
   "cell_type": "code",
   "execution_count": 14,
   "metadata": {},
   "outputs": [
    {
     "name": "stdout",
     "output_type": "stream",
     "text": [
      "Ingrese la cantidad de puntos a evaluar: 3\n",
      "Ingrese el punto 1: -1\n",
      "Ingrese el punto 2: 0\n",
      "Ingrese el punto 3: 1\n"
     ]
    }
   ],
   "source": [
    "#Definir la cantidad de puntos a evaluar\n",
    "n = int(input(\"Ingrese la cantidad de puntos a evaluar: \"))\n",
    "\n",
    "# Crear una lista para almacenar los puntos ingresados por el usuario\n",
    "puntos = []\n",
    "\n",
    "# Pedir al usuario que ingrese los puntos a evaluar\n",
    "for i in range(n):\n",
    "    punto = float(input(f\"Ingrese el punto {i + 1}: \"))\n",
    "    # Verificar que el punto esté dentro del intervalo de t\n",
    "    if -1 <= punto <= 1:\n",
    "        puntos.append(punto)\n",
    "    else:\n",
    "        print(f\"Error: El punto {punto} está fuera del intervalo [{-1}, {1}].\")"
   ]
  },
  {
   "cell_type": "markdown",
   "metadata": {},
   "source": [
    "Se construye la función original"
   ]
  },
  {
   "cell_type": "code",
   "execution_count": 15,
   "metadata": {},
   "outputs": [],
   "source": [
    "# Vector de numpy con la evaluación de la función que se quiere aproximar\n",
    "f = np.cos(np.pi/2*t)"
   ]
  },
  {
   "cell_type": "markdown",
   "metadata": {},
   "source": [
    "**NOTA**: \" *np.cos* \" es la función coseno incluida en *numpy*, por que python base no la contiene, lo mismo pasa con \" *np.pi* \""
   ]
  },
  {
   "cell_type": "markdown",
   "metadata": {},
   "source": [
    "Graficamos la funcion original"
   ]
  },
  {
   "cell_type": "code",
   "execution_count": 16,
   "metadata": {},
   "outputs": [
    {
     "data": {
      "image/png": "[encoded data removed]",
      "text/plain": [
       "<Figure size 432x288 with 1 Axes>"
      ]
     },
     "metadata": {
      "needs_background": "light"
     },
     "output_type": "display_data"
    }
   ],
   "source": [
    "# Se crea la figura\n",
    "fig = plt.figure()\n",
    "\n",
    "# Se grafica el vector de la función con respecto al vector de la variable independiente\n",
    "plt.plot(t, f)\n",
    "\n",
    "# Se edita la figura\n",
    "plt.xlabel('$t$',fontsize=12) # Se escribe la etiqueta del eje de la variable indpendiente en tamaño de letra 12\n",
    "plt.ylabel('$f(t)$',fontsize=12) # Se escribe la etiqueta del eje de la función en tamaño de letra 12\n",
    "plt.suptitle('Función original', weight='bold') # Se escribe el título de la gráfica \n",
    "plt.grid() # Se grafica la cuadrícula\n",
    "\n",
    "# Se muestra la figura\n",
    "plt.show()"
   ]
  },
  {
   "cell_type": "markdown",
   "metadata": {},
   "source": [
    "Aproximaremos la función original con **n puntos** que esten en el intervalo de  $-1\\leq t\\leq 1$, para ello necesitaremos trabajar con un **polinomió de orden n-1**  \n",
    "$$\n",
    "f_a(t)=\\sum_{k=0}^{n-1} a_kt^k=a_0+a_1t+a_2t^2+a_3t^3+...+a_{n-1}t^{n-1}\n",
    "$$\n",
    "para poder construir un **sistema algebraico cuadrado** que se pueda resolverse.<br><br>\n",
    "**NOTA**: *Si se eligiera un polinomio de menor orden, se tendría un sistema algebraico sobredeterminado. Por el contrario, si se eligiera un polinomio de orden mayor, se tendría un sistema algebraico subdeterminado.*<br><br>\n",
    "El sistema matricial se construye al evaluar la *función original* en los puntos solicitados $\\{p_1,p_2,\\ldots,p_n\\}$ y hacerlos **coincidir** con la evaluación de la *función aproximada*\n",
    "\n",
    "$$\n",
    "\\begin{align}\n",
    "\\cos\\left(\\frac{\\pi}{2}p_1\\right) && = && f_a(p_1) && = && a_0 &&+&& a_1 &&+&& a_2 &&+&&...&&+&& a_{n-1}\\\\\n",
    "\\vdots \\\\\n",
    "\\cos\\left(\\frac{\\pi}{2}p_n\\right) && = && f_a(p_n) && = && a_0 &&+&& a_1 &&+&& a_2 &&+&&...&&+&& a_{n-1}\n",
    "\\end{align}\n",
    "$$"
   ]
  },
  {
   "cell_type": "markdown",
   "metadata": {},
   "source": [
    "Evaluamos"
   ]
  },
  {
   "cell_type": "code",
   "execution_count": 17,
   "metadata": {},
   "outputs": [
    {
     "name": "stdout",
     "output_type": "stream",
     "text": [
      "[6.123234e-17 1.000000e+00 6.123234e-17]\n"
     ]
    }
   ],
   "source": [
    "# Evaluar la función en los puntos ingresados por el usuario\n",
    "rhs = np.cos((np.pi / 2) * np.array(puntos))#El vector independiente\n",
    "\n",
    "# Mostrar los resultados\n",
    "print(rhs)"
   ]
  },
  {
   "cell_type": "markdown",
   "metadata": {},
   "source": [
    "**NOTA:** Crearemos la matriz de dos formas diferentes:\n",
    "\n",
    "1. De la primer forma crearemos la matriz \"manualmente\" a traves de un ciclo for, siguiendo el metodo de Vandermound, donde se eleva cada punto a una potencia correspondiente a su posición en la fila, con las potencias decreciendo de derecha a izquierda.\n",
    "$$\n",
    "\\begin{bmatrix}\n",
    "1 & x_1 & x_1^2 & \\cdots & x_1^{n-1} \\\\\n",
    "1 & x_2 & x_2^2 & \\cdots & x_2^{n-1} \\\\\n",
    "\\vdots & \\vdots & \\vdots & \\ddots & \\vdots \\\\\n",
    "1 & x_m & x_m^2 & \\cdots & x_m^{n-1}\n",
    "\\end{bmatrix}\n",
    "$$\n",
    "\n",
    "2. El segundo método es usando a función np.vander() que genera una matriz de Vandermonde de forma automática donde:\n",
    "* *puntos*: son la cantidad de puntos en los que la funcion aproximada se aproxima a la función original.\n",
    "* *n*: son la cantidad de puntos a evaluar.\n",
    "* *increasing*: un valor booleano que indica si las potencias en cada fila deben aumentar (True) o disminuir (False)."
   ]
  },
  {
   "cell_type": "code",
   "execution_count": 7,
   "metadata": {},
   "outputs": [
    {
     "name": "stdout",
     "output_type": "stream",
     "text": [
      "[[ 1.    0.25  1.  ]\n",
      " [-1.    0.5   1.  ]\n",
      " [ 1.    1.    1.  ]]\n"
     ]
    }
   ],
   "source": [
    "# Inicializar la matriz\n",
    "M = np.zeros((n, n))\n",
    "\n",
    "# Llenar la matriz con los valores dados\n",
    "for i in range(n):\n",
    "    for j in range(n):\n",
    "        M[i][j] = puntos[j] ** (n - i - 1)\n",
    "\n",
    "print(M)"
   ]
  },
  {
   "cell_type": "code",
   "execution_count": 18,
   "metadata": {},
   "outputs": [
    {
     "name": "stdout",
     "output_type": "stream",
     "text": [
      "[[ 1. -1.  1.]\n",
      " [ 1.  0.  0.]\n",
      " [ 1.  1.  1.]]\n"
     ]
    }
   ],
   "source": [
    "#Creamos la matriz que esta en funcion de los puntos y del orden del polinomio\n",
    "M = np.vander(puntos, n, increasing=True)\n",
    "\n",
    "#Imprime la matriz\n",
    "print(M)"
   ]
  },
  {
   "cell_type": "markdown",
   "metadata": {},
   "source": [
    "Resolvemos el sistema matricial para encontrar los coeficientes de la función aproximada con las siguientes funciones de **numpy**<br>\n",
    "* *matmul* : Regresa el producto de dos arreglos de numpy\n",
    "* *linalg.inv* : Calcula la inversa de un arreglo bidimensional de numpy\n",
    "* *transpose* : Regresa el transpuesto de un arreglo de numpy"
   ]
  },
  {
   "cell_type": "code",
   "execution_count": 19,
   "metadata": {},
   "outputs": [
    {
     "data": {
      "text/plain": [
       "array([ 1.,  0., -1.])"
      ]
     },
     "execution_count": 19,
     "metadata": {},
     "output_type": "execute_result"
    }
   ],
   "source": [
    "coef = np.matmul(np.linalg.inv(M),np.transpose(rhs))\n",
    "coef"
   ]
  },
  {
   "cell_type": "markdown",
   "metadata": {},
   "source": [
    "La función \" *polyval* \" en *numpy* se utiliza para evaluar un polinomio dado en un punto específico o en una serie de puntos.<br>\n",
    "**NOTA**: Se requiere invertir el orden del vector con los coeficientes con *flipud* porque la función *polyval* requiere que esten ordenados del grado mayor a la constante."
   ]
  },
  {
   "cell_type": "code",
   "execution_count": 20,
   "metadata": {},
   "outputs": [],
   "source": [
    "fa = np.polyval(np.flipud(coef),t)"
   ]
  },
  {
   "cell_type": "markdown",
   "metadata": {},
   "source": [
    "Graficamos la función aproximada y la original para poder compararlas"
   ]
  },
  {
   "cell_type": "code",
   "execution_count": 21,
   "metadata": {},
   "outputs": [
    {
     "data": {
      "image/png": "[encoded data removed]",
      "text/plain": [
       "<Figure size 432x288 with 1 Axes>"
      ]
     },
     "metadata": {
      "needs_background": "light"
     },
     "output_type": "display_data"
    }
   ],
   "source": [
    "# Se crea la figura\n",
    "fig = plt.figure()\n",
    "\n",
    "# Se grafica el vector de la función original con respecto al vector de la variable independiente\n",
    "plt.plot(t, f, label='$f(t)$')\n",
    "\n",
    "# Se grafica el vector de la función aproximada con respecto al vector de la variable independiente\n",
    "plt.plot(t, fa, label='$f_a(t)$')\n",
    "\n",
    "# Se edita la figura\n",
    "plt.xlabel('$t$', fontsize=12)  # Se escribe la etiqueta del eje de la variable independiente en tamaño de letra 12\n",
    "plt.suptitle('Comparación de la función original con la aproximada', weight='bold')  # Se escribe el título de la gráfica\n",
    "plt.grid()  # Se grafica la cuadrícula\n",
    "plt.legend()  # Se imprime la leyenda\n",
    "\n",
    "# Mostrar la gráfica\n",
    "plt.show()"
   ]
  },
  {
   "cell_type": "code",
   "execution_count": null,
   "metadata": {},
   "outputs": [],
   "source": []
  }
 ],
 "metadata": {
  "kernelspec": {
   "display_name": "Python 3",
   "language": "python",
   "name": "python3"
  },
  "language_info": {
   "codemirror_mode": {
    "name": "ipython",
    "version": 3
   },
   "file_extension": ".py",
   "mimetype": "text/x-python",
   "name": "python",
   "nbconvert_exporter": "python",
   "pygments_lexer": "ipython3",
   "version": "3.7.3"
  }
 },
 "nbformat": 4,
 "nbformat_minor": 5
}
