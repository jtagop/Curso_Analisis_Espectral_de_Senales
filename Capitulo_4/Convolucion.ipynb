{
 "cells": [
  {
   "cell_type": "markdown",
   "metadata": {},
   "source": [
    "# Convolución\n",
    "**Autor:** Martínez Torres Marcos Alfonso, Facultad de Ingeniería, UNAM\n",
    "\n",
    "Licensed under <a href=\"https://creativecommons.org/licenses/by-nc-nd/4.0?ref=chooser-v1\">Attribution-NonCommercial-NoDerivatives 4.0 International</a>"
   ]
  },
  {
   "cell_type": "markdown",
   "metadata": {},
   "source": [
    "Se importan las bibliotecas de Python\n",
    "* *numpy* : Permite crear y gestionar arreglos multidimensionales, junto con una gran colección de funciones matemáticas de alto nivel que operan sobre estos arreglos. El sitio oficial es https://numpy.org/\n",
    "* *matplotlib* : Permite crear visualizaciones estáticas, animadas e interactivas en 2D y 3D. El sitio oficial es https://matplotlib.org/\n",
    "* *ipywidgets*: Esta biblioteca proporciona herramientas interactivas para crear widgets en Jupyter Notebooks y JupyterLab. El sitio oficial es https://jupyter.org/"
   ]
  },
  {
   "cell_type": "code",
   "execution_count": 1,
   "metadata": {},
   "outputs": [],
   "source": [
    "import numpy as np\n",
    "import matplotlib.pyplot as plt\n",
    "import ipywidgets as widgets"
   ]
  },
  {
   "cell_type": "markdown",
   "metadata": {},
   "source": [
    "## Teoría"
   ]
  },
  {
   "cell_type": "markdown",
   "metadata": {},
   "source": [
    "### Integral de convolución"
   ]
  },
  {
   "cell_type": "markdown",
   "metadata": {},
   "source": [
    "La integral de convolución se define como:\n",
    "$$\n",
    "\\mathscr{s}(t)\\:=\\:\\int_{-\\infty}^{\\infty}{\\mathscr{e}(\\tau)\\mathscr{h}(t-\\tau)}d\\tau \\:=\\: \\mathscr{e}(t)*\\mathscr{h}(t) \n",
    "$$\n",
    "Donde en este caso\n",
    "* $\\mathscr{e}(t)$ es la función de entrada\n",
    "* $\\mathscr{h}(t)$ es la función de transferencia\n",
    "* y \"$*$\" es el operador de convolución\n",
    "<center><img src=\"/E:\\Codigos_linux\\APython\\NotebooksP_AEdS\\Tema_4\\ani_intconv.gif\" alt=\"Integral de convolución, ejemplo\" />"
   ]
  },
  {
   "cell_type": "markdown",
   "metadata": {},
   "source": [
    "### Evaluación gráfica"
   ]
  },
  {
   "cell_type": "code",
   "execution_count": 2,
   "metadata": {},
   "outputs": [],
   "source": [
    "# Función para la primera gráfica\n",
    "def caja1(t):\n",
    "    return np.where((t >= 0) & (t <= 1), 0.5, 0)\n",
    "\n",
    "# Función para la segunda gráfica\n",
    "def caja2(t, desp):\n",
    "    return np.where((t >= -1+desp) & (t <= 0+desp), 1, 0)"
   ]
  },
  {
   "cell_type": "markdown",
   "metadata": {},
   "source": [
    "Sean $\\mathscr{e}(t)$ y $\\mathscr{h}(\\tau)$ dos funciones representadas por las siguientes figuras.\n",
    "<center><img src=\"/E:\\Codigos_linux\\APython\\NotebooksP_AEdS\\Tema_4\\Paso1_EvGraf.png\" alt=\"Paso 1\" />"
   ]
  },
  {
   "cell_type": "markdown",
   "metadata": {},
   "source": [
    "Para realizar la convolución es necesario reemplazar la variable $t$ por $\\tau$, lo cual no altera a la función ya que sólo estamos cambiando el nombre de la variable, por lo que ahora tenemos $\\mathscr{e}(\\tau)$ y $\\mathscr{h}(\\tau)$.\n",
    "<center><img src=\"/E:\\Codigos_linux\\APython\\NotebooksP_AEdS\\Tema_4\\Paso2_EvGraf.png\" alt=\"Paso 2\" />"
   ]
  },
  {
   "cell_type": "markdown",
   "metadata": {},
   "source": [
    "#### Paso 1: Plegamiento"
   ]
  },
  {
   "cell_type": "markdown",
   "metadata": {},
   "source": [
    "Como primer paso plegamos la función $\\mathscr{h}(\\tau)$ para obtener su imagen con lo cual tenemos $\\mathscr{h}(-\\tau)$\n",
    "<center><img src=\"/E:\\Codigos_linux\\APython\\NotebooksP_AEdS\\Tema_4\\Paso3_EvGraf.png\" alt=\"Paso 3\" />"
   ]
  },
  {
   "cell_type": "markdown",
   "metadata": {},
   "source": [
    "#### Paso 2: Desplazamiento"
   ]
  },
  {
   "cell_type": "markdown",
   "metadata": {},
   "source": [
    "Ahora la desplazamos un intervalo $t$ de manera que nuestra función ahora la representamos como $\\mathscr{h}(t-\\tau)$\n",
    "<center><img src=\"/E:\\Codigos_linux\\APython\\NotebooksP_AEdS\\Tema_4\\Paso4_EvGraf.png\" alt=\"Paso 4\" />"
   ]
  },
  {
   "cell_type": "markdown",
   "metadata": {},
   "source": [
    "#### Paso 3: Multiplicación"
   ]
  },
  {
   "cell_type": "markdown",
   "metadata": {},
   "source": [
    "Para realizar la convolución, como se establece en la definición, es necesario multiplicar la función $\\mathscr{e}(\\tau)$ por cada valor desplazado de la función $\\mathscr{h}(t-\\tau)$ e integrar el producto. El valor de desplazamiento del desplazamiento t se toma de $-\\infty$ a $\\infty$.<br>\n",
    "Para nuestro ejemplo, si tomamos un desplazamiento cada $0.25$, podemos observar graficamente como se va comportando nuestra convolución en estos puntos. Por ejemplo, si se tiene un desplazamiento $t = 0$, el area de las dos funciones es cero."
   ]
  },
  {
   "cell_type": "markdown",
   "metadata": {},
   "source": [
    "##### Codigo 1"
   ]
  },
  {
   "cell_type": "code",
   "execution_count": 3,
   "metadata": {},
   "outputs": [],
   "source": [
    "def calcular_s(t, desp):\n",
    "    if t < 0 or t > 2:\n",
    "        return 0\n",
    "    elif 0 <= t <= 1:\n",
    "        return 0.5 * desp\n",
    "    else:\n",
    "        return 0.5 * (2 - desp)"
   ]
  },
  {
   "cell_type": "code",
   "execution_count": null,
   "metadata": {},
   "outputs": [
    {
     "name": "stderr",
     "output_type": "stream",
     "text": [
      "<>:21: SyntaxWarning: invalid escape sequence '\\i'\n",
      "<>:22: SyntaxWarning: invalid escape sequence '\\i'\n",
      "<>:21: SyntaxWarning: invalid escape sequence '\\i'\n",
      "<>:22: SyntaxWarning: invalid escape sequence '\\i'\n",
      "C:\\Users\\Marcos\\AppData\\Local\\Temp\\ipykernel_3716\\371679807.py:21: SyntaxWarning: invalid escape sequence '\\i'\n",
      "  ax.text(-3, -0.1, '$-\\infty$', ha='center', va='bottom')\n",
      "C:\\Users\\Marcos\\AppData\\Local\\Temp\\ipykernel_3716\\371679807.py:22: SyntaxWarning: invalid escape sequence '\\i'\n",
      "  ax.text(3, -0.1, '$+\\infty$', ha='center', va='bottom')\n"
     ]
    },
    {
     "data": {
      "application/vnd.jupyter.widget-view+json": {
       "model_id": "db89fe4cffd640dabf8ab0da21f5aec0",
       "version_major": 2,
       "version_minor": 0
      },
      "text/plain": [
       "interactive(children=(FloatSlider(value=0.0, description='Valor de t:', max=3.0, min=-3.0, step=0.25), Output(…"
      ]
     },
     "execution_count": 4,
     "metadata": {},
     "output_type": "execute_result"
    }
   ],
   "source": [
    "def grafica_interactiva(desp):\n",
    "    # Crear la gráfica\n",
    "    fig, ax = plt.subplots(figsize=(6, 6))\n",
    "\n",
    "    # Crear las funciones\n",
    "    t = np.linspace(-3, 3, 1000)\n",
    "    linea1, = ax.plot(t, caja1(t), color='blue', label='e(τ)')\n",
    "    linea2, = ax.plot(t, caja2(t, desp), color='red', label='e(t-τ)')\n",
    "\n",
    "    # Colorear áreas de empalme\n",
    "    mascara = (t >= -1+desp) & (t <= 0+desp) & (t >= 0) & (t <= 1)\n",
    "    ax.fill_between(t, caja1(t), where=mascara, color='green', alpha=0.5)\n",
    "\n",
    "    # Configuración de gráfica\n",
    "    ax.set_title('Función de transferencia', fontsize=12, fontweight='bold')\n",
    "    ax.set_xlabel('τ', fontsize=12, fontweight='bold')\n",
    "    ax.set_ylabel('s(t)', fontsize=12, fontweight='bold')\n",
    "    ax.set_xlim(-3, 3)\n",
    "    ax.set_ylim(0, 1.5)\n",
    "    ax.set_xticks(np.arange(-2, 3)) \n",
    "    ax.text(-3, -0.1, '$-\\infty$', ha='center', va='bottom')\n",
    "    ax.text(3, -0.1, '$+\\infty$', ha='center', va='bottom')\n",
    "\n",
    "    # Etiquetas personalizadas para la leyenda\n",
    "     # Etiquetas personalizadas para la leyenda\n",
    "    etiquetas_lineas = ['e(τ)', 'e(t-τ)']\n",
    "    s = calcular_s(desp, desp)\n",
    "    etiquetas_info = [\n",
    "        f't = {desp:.2f}', \n",
    "        f's({desp:.2f}) = (0.5)*({desp:.2f}) = {s:.3f}'\n",
    "    ]\n",
    "\n",
    "    plt.legend(etiquetas_lineas, loc='upper right')\n",
    "    ax.text(0.05, 0.9, '\\n'.join(etiquetas_info), transform=ax.transAxes, fontsize=10)\n",
    "\n",
    "    plt.show()\n",
    "\n",
    "# Crear widget deslizante para modificar p1\n",
    "widget = widgets.FloatSlider(\n",
    "    value=0,\n",
    "    min=-3,\n",
    "    max=3,\n",
    "    step=0.25,\n",
    "    description='Valor de t:',\n",
    "    continuous_update=True\n",
    ")\n",
    "\n",
    "# Vincular el widget con la función actualizar_grafica\n",
    "widgets.interactive(grafica_interactiva, desp=widget)"
   ]
  },
  {
   "cell_type": "code",
   "execution_count": 5,
   "metadata": {},
   "outputs": [
    {
     "name": "stderr",
     "output_type": "stream",
     "text": [
      "<>:22: SyntaxWarning: invalid escape sequence '\\i'\n",
      "<>:23: SyntaxWarning: invalid escape sequence '\\i'\n",
      "<>:46: SyntaxWarning: invalid escape sequence '\\i'\n",
      "<>:47: SyntaxWarning: invalid escape sequence '\\i'\n",
      "<>:22: SyntaxWarning: invalid escape sequence '\\i'\n",
      "<>:23: SyntaxWarning: invalid escape sequence '\\i'\n",
      "<>:46: SyntaxWarning: invalid escape sequence '\\i'\n",
      "<>:47: SyntaxWarning: invalid escape sequence '\\i'\n",
      "C:\\Users\\Marcos\\AppData\\Local\\Temp\\ipykernel_3716\\3433802817.py:22: SyntaxWarning: invalid escape sequence '\\i'\n",
      "  ax1.text(-3, -0.1, '$-\\infty$', ha='center', va='bottom')\n",
      "C:\\Users\\Marcos\\AppData\\Local\\Temp\\ipykernel_3716\\3433802817.py:23: SyntaxWarning: invalid escape sequence '\\i'\n",
      "  ax1.text(3, -0.1, '$+\\infty$', ha='center', va='bottom')\n",
      "C:\\Users\\Marcos\\AppData\\Local\\Temp\\ipykernel_3716\\3433802817.py:46: SyntaxWarning: invalid escape sequence '\\i'\n",
      "  ax2.text(-3, -0.1, '$-\\infty$', ha='center', va='bottom')\n",
      "C:\\Users\\Marcos\\AppData\\Local\\Temp\\ipykernel_3716\\3433802817.py:47: SyntaxWarning: invalid escape sequence '\\i'\n",
      "  ax2.text(3, -0.1, '$+\\infty$', ha='center', va='bottom')\n"
     ]
    },
    {
     "data": {
      "application/vnd.jupyter.widget-view+json": {
       "model_id": "58e94c68764b4a9d97d00289271f407d",
       "version_major": 2,
       "version_minor": 0
      },
      "text/plain": [
       "interactive(children=(FloatSlider(value=0.0, description='Valor de t:', max=2.0, step=0.25), Output()), _dom_c…"
      ]
     },
     "execution_count": 5,
     "metadata": {},
     "output_type": "execute_result"
    }
   ],
   "source": [
    "def grafica_interactiva2(desp):\n",
    "    # Crear la gráfica\n",
    "    fig, axs = plt.subplots(1, 3, figsize=(20, 8))\n",
    "    ax1, ax2, ax3 = axs\n",
    "\n",
    "    # Crear las funciones\n",
    "    t = np.linspace(-3, 3, 1000)\n",
    "    linea1, = ax1.plot(t, caja1(t), color='blue', label='e(τ)')\n",
    "    linea2, = ax1.plot(t, caja2(t, desp), color='red', label='e(t-τ)')\n",
    "\n",
    "    # Colorear áreas de empalme\n",
    "    mascara = (t >= -1+desp) & (t <= 0+desp) & (t >= 0) & (t <= 1)\n",
    "    ax1.fill_between(t, caja1(t), where=mascara, color='green', alpha=0.5)\n",
    "\n",
    "    # Configuración de gráfica\n",
    "    ax1.set_title('Función de transferencia', fontsize=12, fontweight='bold')\n",
    "    ax1.set_xlabel('t', fontsize=12, fontweight='bold')\n",
    "    ax1.set_ylabel('s(t)', fontsize=12, fontweight='bold')\n",
    "    ax1.set_xlim(-3, 3)\n",
    "    ax1.set_ylim(0, 1.5)\n",
    "    ax1.set_xticks(np.arange(-2, 3)) \n",
    "    ax1.text(-3, -0.1, '$-\\infty$', ha='center', va='bottom')\n",
    "    ax1.text(3, -0.1, '$+\\infty$', ha='center', va='bottom')\n",
    "\n",
    "    # Etiquetas personalizadas para la leyenda\n",
    "    etiquetas_lineas = ['e(τ)', 'h(t-τ)']\n",
    "    s = calcular_s(desp,desp)\n",
    "    etiquetas_info = [\n",
    "        f't = {desp:.2f}', \n",
    "        f's = {s:.3f}'\n",
    "    ]\n",
    "\n",
    "    ax1.legend(etiquetas_lineas, loc='upper right')\n",
    "    ax1.text(0.05, 0.9, '\\n'.join(etiquetas_info), transform=ax1.transAxes, fontsize=10)\n",
    "\n",
    "    # Gráfica de s vs t\n",
    "    t_s = np.linspace(-3, 3, 1000)\n",
    "    ax2.clear()  # Limpia la gráfica anterior\n",
    "    ax2.set_title('Convolución', fontsize=12, fontweight='bold')\n",
    "    ax2.set_xlabel('t', fontsize=12, fontweight='bold')\n",
    "    ax2.set_ylabel('s(t)', fontsize=12, fontweight='bold')\n",
    "    ax2.set_xlim(-3, 3)\n",
    "    ax2.set_ylim(0, 1)\n",
    "    ax2.set_xticks(np.arange(-2, 3)) \n",
    "    ax2.set_yticks(np.arange(0, 2,0.25))\n",
    "    ax2.text(-3, -0.1, '$-\\infty$', ha='center', va='bottom')\n",
    "    ax2.text(3, -0.1, '$+\\infty$', ha='center', va='bottom')\n",
    "\n",
    "    # Actualizar gráfica 2\n",
    "    idx = int((desp + 3) / 6 * len(t_s))  # Índice para slicing\n",
    "    s_values = [calcular_s(ti,ti) for ti in t_s[:idx]]  # Valores de s hasta idx\n",
    "    ax2.plot(t_s[:idx], s_values, label='s(t)', color='purple')  # Gráfica hasta idx\n",
    "    ax2.legend()\n",
    "\n",
    "    # Tabla\n",
    "    ax3.axis('off')  # Desactiva ejes\n",
    "    ax3.set_title('Tabla de valores', fontsize=12, fontweight='bold')\n",
    "\n",
    "    # Generar valores de desp y s\n",
    "    desp_values = np.arange(0, 2.25, 0.25)\n",
    "    s_values = [calcular_s(d,d) for d in desp_values]\n",
    "\n",
    "    # Actualizar tabla\n",
    "    tabla = ax3.table(\n",
    "        cellText=np.round(np.column_stack((desp_values, s_values)), 3),\n",
    "        colLabels=['t', 's(t)'],\n",
    "        loc='center'\n",
    "    )\n",
    "    tabla.auto_set_font_size(False)\n",
    "    tabla.set_fontsize(10)\n",
    "\n",
    "    # Resaltar fila actual\n",
    "    fila_actual = int(desp / 0.25)\n",
    "    tabla[(fila_actual+1, 0)].set_facecolor('yellow')\n",
    "    tabla[(fila_actual+1, 1)].set_facecolor('yellow')\n",
    "\n",
    "\n",
    "    plt.tight_layout()\n",
    "    plt.show()\n",
    "\n",
    "# Crear widget deslizante para modificar p1\n",
    "widget = widgets.FloatSlider(\n",
    "    value=0,\n",
    "    min=0,\n",
    "    max=2,\n",
    "    step=0.25,\n",
    "    description='Valor de t:',\n",
    "    continuous_update=True\n",
    ")\n",
    "\n",
    "# Vincular el widget con la función actualizar_grafica\n",
    "widgets.interactive(grafica_interactiva2, desp=widget)"
   ]
  },
  {
   "cell_type": "markdown",
   "metadata": {},
   "source": [
    "### Evaluación Analítica"
   ]
  },
  {
   "cell_type": "markdown",
   "metadata": {},
   "source": [
    "Los valores de la convolucion para las dos funciones anteriores son facilmente obtenidos a través de una evaluación gráfica en puntos definidos; sin embargo, cuando se tienen otros tipos de funciones, el obtener estos valores se complica, por lo que es necesario deducirlos de manera analítica.<br><br>\n",
    "Para la evalución analítica de la operación de la convolución entre dos funciones se siguen los pasos 1, 2 y 3 de la evalución gráfica; sin embargo, para la etapa final de integración se requiere la evaluación analítica de una integral definida, por lo que es necesario fijar adecuadamente los limites de integración .<br><br>\n",
    "Para determinar los limites de integración de la convolución primero se investigan los valores mínimos de $\\tau$, para los cuales las funciones $\\mathscr{e}(\\tau)$ y $\\mathscr{h}(t-\\tau)$ son no nulos, y se selecciona como límite inferior de la integral el mayor de los dos; a continuación se investigan los valores máximos de $\\tau$, para los cuales las funciones $\\mathscr{e}(\\tau)$ y $\\mathscr{h}(t-\\tau)$ son no nulos, y se selecciona como límite superior al menor de los dos. Para la obtención de estos límites, nos auxiliaremos de la gráfica de la convolución de las funciones"
   ]
  },
  {
   "cell_type": "markdown",
   "metadata": {},
   "source": [
    "Utilizando las funciones del ejercicio anterior, tenemos que para<br>\n",
    "<center><img src=\"/E:\\Codigos_linux\\APython\\NotebooksP_AEdS\\Tema_4\\1_EvAnalitc.png\" alt=\"Paso 1\" /><br>"
   ]
  },
  {
   "cell_type": "markdown",
   "metadata": {},
   "source": [
    "|  | Límite inferior | Límite superior |\n",
    "|-----------|-----------|-----------|\n",
    "| $e(\\tau)$ | 0 | 1 |\n",
    "| $h(t-\\tau)$ | t-1 | t|"
   ]
  },
  {
   "cell_type": "markdown",
   "metadata": {},
   "source": [
    "Por lo que los límites de la integral definida irán variando como sigue:\n",
    "$$\n",
    "\\mathscr{s}(t) = \n",
    "\\begin{cases}\n",
    "0; & t\\leq 0; & \\text{Ya que no existe intersección entre las funciones, por lo que el producto es cero}\\\\\n",
    "\\int_{0}^{t}; & 0 < t \\leq 1; & \\text{Ya que para este intervalo el límite mayor entre 0 y t-1 es 0, y el menor entre 1 y t es t} x < 0\\\\\n",
    "\\int_{t-1}^{1}; & 1<t\\leq 2; & \\text{Ya que para este intervalo el límite mayor entre 0 y t-1 es t-1, y el menor entre 1 y t es 1}\\\\\n",
    "0; & t>2; & \\text{Para t>2 no existe intersección entre las dos funciones, por lo que el producto es cero}\n",
    "\\end{cases}\n",
    "$$"
   ]
  },
  {
   "cell_type": "markdown",
   "metadata": {},
   "source": [
    "Si resolvemos analíticamente\n",
    "$$\n",
    "\\mathscr{s}(t)=\\int_{-\\infty}^{\\infty}{\\mathscr{e}(\\tau)\\;\\mathscr{h}(t-\\tau)}\\;dt\\\\\n",
    "\\\\[1cm]\n",
    "I_1 = \\int_{0}^{t}{\\left(\\frac{1}{2}\\right)(1)}dt=\\frac{1}{2}\\int_{0}^{t}dt = \\frac{1}{2}(t-0)=\\frac{1}{2}t\\\\\n",
    "\\\\[0.5cm]\n",
    "I_2 = \\int_{t-1}^{1}{\\left(\\frac{1}{2}\\right)(1)}dt=\\frac{1}{2}\\int_{0}^{t}dt = \\frac{1}{2}(1-t+1)=1-\\frac{1}{2}t\n",
    "$$\n",
    "por lo que\n",
    "$$\n",
    "\\mathscr{s}(t) = \n",
    "\\begin{cases}\n",
    "0; & t\\leq 0 \\\\\n",
    "\\frac{1}{2}t; & 0 < t \\leq 1 \\\\\n",
    "1-\\frac{1}{2}t; & 1<t\\leq 2 \\\\\n",
    "0; & t>2\n",
    "\\end{cases}\n",
    "$$"
   ]
  },
  {
   "cell_type": "markdown",
   "metadata": {},
   "source": [
    "### Propiedades de la integral de convolución"
   ]
  },
  {
   "cell_type": "markdown",
   "metadata": {},
   "source": [
    "La convolución de dos funciones tiene la propiedad de ser una **operación conmotutativa**, esto es:\n",
    "$$\n",
    "\\alpha_1(t) * \\alpha_2(t) = \\alpha_2(t) * \\alpha_1(t)\n",
    "$$\n",
    "donde $*$ representa a la operación de convolución de $\\alpha_1(t) * \\alpha_2(t)$"
   ]
  },
  {
   "cell_type": "markdown",
   "metadata": {},
   "source": [
    "### Teorema de la convolución"
   ]
  },
  {
   "cell_type": "markdown",
   "metadata": {},
   "source": [
    "Una de las herramientas más importantes para el análisisde los sistemas lineales se debe a la relación que existe entre la *transformada de Fourier* y la *operación de convolución*. A esta relación se le conoce como **teorema de la convolución**."
   ]
  },
  {
   "cell_type": "markdown",
   "metadata": {},
   "source": [
    "Si\n",
    "$$\n",
    "\\mathscr{F} \\{\\mathscr{h}_1(t)\\} = H_1(\\mathscr{f})\\qquad\\text{y}\\qquad\\mathscr{F} \\{\\mathscr{h}_2(t)\\} = H_2(\\mathscr{f})\n",
    "$$\n",
    "\n",
    "Teorema de la convolución en el dominio del tiempo\n",
    "$$\n",
    "\\mathscr{F} \\{\\mathscr{h}_1(t) * \\mathscr{h}_2(t)\\} = H_1(\\mathscr{f}) \\cdot H_2(\\mathscr{f})\n",
    "$$\n",
    "Teorema de la convolución en el dominio de la frecuencia\n",
    "$$\n",
    "\\mathscr{F} \\{\\mathscr{h}_1(t) \\cdot \\mathscr{h}_2(t)\\} = H_1(\\mathscr{f}) * H_2(\\mathscr{f})\n",
    "$$"
   ]
  },
  {
   "cell_type": "markdown",
   "metadata": {},
   "source": [
    "## Ejemplo 4.1 de las notas de Anguino"
   ]
  },
  {
   "cell_type": "code",
   "execution_count": 51,
   "metadata": {},
   "outputs": [],
   "source": [
    "# Función para la primera gráfica\n",
    "def caja1(t):\n",
    "    return np.where((t >= 0) & (t <= 1), 0.5, 0)\n",
    "\n",
    "# Función para la segunda gráfica\n",
    "def caja2(t):\n",
    "    return np.where((t >= 0) & (t <= 1), 1, 0)"
   ]
  },
  {
   "cell_type": "code",
   "execution_count": 52,
   "metadata": {},
   "outputs": [],
   "source": [
    "# Vector tiempo\n",
    "t = np.linspace(-1,3, 100)"
   ]
  },
  {
   "cell_type": "code",
   "execution_count": 53,
   "metadata": {},
   "outputs": [
    {
     "data": {
      "image/png": "[encoded data removed]",
      "text/plain": [
       "<Figure size 1000x500 with 2 Axes>"
      ]
     },
     "metadata": {},
     "output_type": "display_data"
    }
   ],
   "source": [
    "plt.figure(figsize=(10,5))\n",
    "\n",
    "plt.subplot(1,2,1)\n",
    "plt.title('Señal de entrada')\n",
    "plt.xlabel(\"t\")\n",
    "plt.ylabel(\"x(t)\")\n",
    "plt.ylim(0,1.5)\n",
    "plt.plot(t,caja1(t))\n",
    "plt.grid(True)\n",
    "\n",
    "plt.subplot(1,2,2)\n",
    "plt.title('Señal de transferencia')\n",
    "plt.xlabel(\"t\")\n",
    "plt.ylabel(\"h(t)\")\n",
    "plt.ylim(0,1.5)\n",
    "plt.plot(t,caja2(t), c = 'red')\n",
    "plt.grid(True)\n",
    "\n",
    "plt.tight_layout()\n",
    "plt.show()"
   ]
  },
  {
   "cell_type": "code",
   "execution_count": 54,
   "metadata": {},
   "outputs": [],
   "source": [
    "#Construimos una función que genere una convolución entre dos señales\n",
    "def conv(f1, f2):\n",
    "    M = len(f1) + len(f2) - 1  # Longitud de la señal de salida\n",
    "    fs = np.zeros(M) # Inicializamos y como un vector de ceros\n",
    "    \n",
    "    # Realizamos la convolución\n",
    "    for n in range(M): # Itera sobre cada posición n en la señal de salida y\n",
    "        for i in range(len(f1)): #Itera sobre cada posición i en la señal de entrada x y el desplazamiento de h\n",
    "            if n - i >= 0 and n - i < len(f2):# Verifica si la posición n - i está dentro de los límites de la señal h.\n",
    "                fs[n] += f1[i] * f2[n - i] # Si la posición n - i es válida, multiplica el valor de x en la posición i por el \n",
    "                                        # valor de h en la posición n - i y suma el resultado a la posición n de la señal \n",
    "                                        # de salida y.    \n",
    "    return fs"
   ]
  },
  {
   "cell_type": "code",
   "execution_count": 55,
   "metadata": {},
   "outputs": [],
   "source": [
    "s = conv(caja1(t),caja2(t))\n",
    "s_prueba = np.convolve(caja1(t),caja2(t), mode = 'full')"
   ]
  },
  {
   "cell_type": "code",
   "execution_count": 56,
   "metadata": {},
   "outputs": [],
   "source": [
    "# Ajustar el tiempo\n",
    "t_conv = np.linspace(t[0], t[-1], len(s))"
   ]
  },
  {
   "cell_type": "code",
   "execution_count": 57,
   "metadata": {},
   "outputs": [
    {
     "data": {
      "image/png": "[encoded data removed]",
      "text/plain": [
       "<Figure size 1500x500 with 2 Axes>"
      ]
     },
     "metadata": {},
     "output_type": "display_data"
    }
   ],
   "source": [
    "plt.figure(figsize=(15,5))\n",
    "\n",
    "plt.suptitle('Comparación de convolución')\n",
    "\n",
    "plt.subplot(1,2,1)\n",
    "plt.title('convolución con función')\n",
    "plt.xlabel(\"t\")\n",
    "plt.ylabel(\"s(t)\")\n",
    "plt.plot(t_conv,s*(t_conv[1]-t_conv[0]), c = 'purple')\n",
    "plt.grid(True)\n",
    "\n",
    "plt.subplot(1,2,2)\n",
    "plt.title('np.convolve')\n",
    "plt.xlabel(\"t\")\n",
    "plt.ylabel(\"s(t)\")\n",
    "plt.plot(t_conv,s_prueba*(t_conv[1]-t_conv[0]), c = 'green')\n",
    "plt.grid(True)\n",
    "\n",
    "plt.tight_layout()\n",
    "plt.show()"
   ]
  },
  {
   "cell_type": "code",
   "execution_count": null,
   "metadata": {},
   "outputs": [],
   "source": []
  }
 ],
 "metadata": {
  "kernelspec": {
   "display_name": "Python 3",
   "language": "python",
   "name": "python3"
  },
  "language_info": {
   "codemirror_mode": {
    "name": "ipython",
    "version": 3
   },
   "file_extension": ".py",
   "mimetype": "text/x-python",
   "name": "python",
   "nbconvert_exporter": "python",
   "pygments_lexer": "ipython3",
   "version": "3.13.2"
  }
 },
 "nbformat": 4,
 "nbformat_minor": 2
}
