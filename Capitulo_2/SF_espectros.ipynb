{
 "cells": [
  {
   "cell_type": "markdown",
   "metadata": {},
   "source": [
    "# Serie de Fourier:\n",
    "# Espectro discreto de frecuencia\n",
    "**Autor:** Martínez Torres Marcos Alfonso, Facultad de Ingeniería, UNAM\n",
    "\n",
    "Licensed under <a href=\"https://creativecommons.org/licenses/by-nc-nd/4.0?ref=chooser-v1\">Attribution-NonCommercial-NoDerivatives 4.0 International</a>"
   ]
  },
  {
   "cell_type": "markdown",
   "metadata": {},
   "source": [
    "## Teoría"
   ]
  },
  {
   "cell_type": "markdown",
   "metadata": {},
   "source": [
    "### Espectros discretos de amplitud y fase "
   ]
  },
  {
   "cell_type": "markdown",
   "metadata": {},
   "source": [
    "Cuando una función periódica de periodo T se representa mediante la serie de Fourier\n",
    "$$\n",
    "\\begin{equation}\n",
    "f_a(t)=\\sum_{k=-N}^N\\mathscr{D}_k\\exp^{\\frac{i2\\pi kt}{T}}, \\tag{7}\n",
    "\\end{equation}\n",
    "$$\n",
    "el inverso del periodo de la función que se este representando será $\\frac{1}{T} = f_0$, donde $f_0$ se le conoce como la **frecuencia fundamental de la serie de Fourier** y a los coeficientes $\\mathscr{D}_k$ como los **armónicos de la función**. Algunos autores trabajan con la variable $\\omega$, donde $\\omega = \\frac{2\\pi}{T}$, de modo que $\\omega = 2\\pi f_0$.<br>\n",
    "Para obtener lo que se denomina *espectro de amplitud y de fase* de una función, se grafica su\n",
    "$$\n",
    "\\begin{equation}\n",
    "\\begin{align*}\n",
    "|\\mathscr{D}_k|\\;\\text{vs}\\;kf_0 ,&\\hspace{2cm}\\text{Espectro de amplitud}\\\\\n",
    "y\\\\\n",
    "\\phi_k\\;\\text{vs}\\;kf_0 ,&\\hspace{2cm}\\text{Espectro de fase}\\\\\n",
    "&&k = 0,\\pm 1,\\pm 2, \\pm 3, ...\n",
    "\\end{align*}\n",
    "\\end{equation}\n",
    "$$"
   ]
  },
  {
   "cell_type": "markdown",
   "metadata": {},
   "source": [
    "### Importancia de los espectros de amplitud y de fase"
   ]
  },
  {
   "cell_type": "markdown",
   "metadata": {},
   "source": [
    "Los espectros son otra forma de representar una función en un nuevo dominio que es el de la frecuencia; dicha representación es unívoca.<br><br>\n",
    "Cada valor $|\\mathscr{D}_k|$ representa la amplitud de un componente sinusoidal, la cual tendrá su correspondiente ángulo de fase $\\phi_k$. Este ángulo de fase nos indicara con que ángulo o desfasamiento entra la señal respecto al origen. Por lo tanto, al efectuar la suma de todas las funciones cosenoidales podremos reconstruir la función original.<br><br>\n",
    "El *espectro de amplitud* representa la amplitud de cada componente de la sinusoidal como una función de la frecuencia y es de simetría **par**; el *espectro de fase* , es de simetría **impar**, nos indica el tiempo de retraso respecto al origen que tiene cada uno de los componentes."
   ]
  },
  {
   "cell_type": "markdown",
   "metadata": {},
   "source": [
    "## Ejemplo\n",
    "\n"
   ]
  },
  {
   "cell_type": "markdown",
   "metadata": {},
   "source": [
    "Del ejemplo 1.5 de las notas de Anguiano.<br>\n",
    "Dada $u(t) = t$ en $t\\:\\epsilon\\:(-\\pi,\\pi)$, obtener su función aproximada mediante la serie de Fourier, y graficar sus espectros de frecuencia y amplitud"
   ]
  },
  {
   "cell_type": "markdown",
   "metadata": {},
   "source": [
    "### Solución"
   ]
  },
  {
   "cell_type": "markdown",
   "metadata": {},
   "source": [
    "Se importan las bibliotecas de Python\n",
    "* *numpy* : Permite crear y gestionar arreglos multidimensionales, junto con una gran colección de funciones matemáticas de alto nivel que operan sobre estos arreglos. El sitio oficial es https://numpy.org/\n",
    "* *matplotlib* : Permite crear visualizaciones estáticas, animadas e interactivas en 2D y 3D. El sitio oficial es https://matplotlib.org/\n",
    "* *scipy* : Es una colección de herramientas y algoritmos matemáticos para Python. Esta librería proporciona funciones para realizar integración numérica, es decir, calcular el valor numérico de una integral definida. La función quad se utiliza específicamente para calcular la integral numérica de una función en un intervalo definido. El sitio oficial es https://scipy.org/\n",
    "* *tabulate*: es una biblioteca de Python que permite formatear y imprimir tablas en la consola de manera sencilla y elegante. El sitio oficial es https://pypi.org/project/tabulate/"
   ]
  },
  {
   "cell_type": "code",
   "execution_count": 8,
   "metadata": {},
   "outputs": [],
   "source": [
    "import numpy as np\n",
    "import matplotlib.pyplot as plt\n",
    "from scipy.integrate import quad\n",
    "# import tabulate"
   ]
  },
  {
   "cell_type": "markdown",
   "metadata": {},
   "source": [
    "#### Definición de aspectos básicos"
   ]
  },
  {
   "cell_type": "markdown",
   "metadata": {},
   "source": [
    "En esta seccion se definen calculos escenciales como:\n",
    "* el periodo (T),\n",
    "* el vector independiente \"t\"(tiempo),\n",
    "* creacion de funciones necesarias para el calculo de la serie de Fourier"
   ]
  },
  {
   "cell_type": "markdown",
   "metadata": {},
   "source": [
    "##### Calculos para la serie de Fourier (compleja)"
   ]
  },
  {
   "cell_type": "code",
   "execution_count": 9,
   "metadata": {},
   "outputs": [],
   "source": [
    "# Para mayor comodidad creamos una constante i puramente imaginaria\n",
    "i = complex(0,1)\n",
    "# Otra forma de scribir un número imaginario en Python seria:\n",
    "# i = 0 + 1j, j es la forma de representar a los imaginarios en Python\n",
    "# Donde j es la forma de representar a la parte imaginaria"
   ]
  },
  {
   "cell_type": "code",
   "execution_count": 10,
   "metadata": {},
   "outputs": [],
   "source": [
    "# definimos nuestra función original f(t), el ejercicio la llama u(t)\n",
    "def u(t):\n",
    "    return t"
   ]
  },
  {
   "cell_type": "code",
   "execution_count": 11,
   "metadata": {},
   "outputs": [],
   "source": [
    "# Funcion que genera el k-ésimo coeficiente Dk\n",
    "def Dk (u,k):\n",
    "    coef = complex(1/T,0)\n",
    "    Dk_real = quad(lambda t: (u(t)*np.exp(-(i*2*np.pi*k*t)/T)).real,-np.pi,np.pi)[0]\n",
    "    Dk_imag = quad(lambda t: (u(t)*np.exp(-(i*2*np.pi*k*t)/T)).imag,-np.pi,np.pi)[0]\n",
    "    Dk = coef*complex(Dk_real,Dk_imag)\n",
    "    return Dk"
   ]
  },
  {
   "cell_type": "code",
   "execution_count": 12,
   "metadata": {},
   "outputs": [],
   "source": [
    "#Funcion que genera la serie de Fourier\n",
    "def SF(u,N,t):\n",
    "    SF_complex = complex(0,0)\n",
    "    for k in range(-N,N+1):\n",
    "        dk = Dk(u,k)\n",
    "        SF_complex += dk*np.exp((i*2*np.pi*k*t)/T)\n",
    "    return SF_complex"
   ]
  },
  {
   "cell_type": "code",
   "execution_count": 13,
   "metadata": {},
   "outputs": [],
   "source": [
    "# Creamos el periodo\n",
    "ti = -np.pi # valor inicial\n",
    "tf = np.pi # valor final\n",
    "T = tf - ti"
   ]
  },
  {
   "cell_type": "code",
   "execution_count": 14,
   "metadata": {},
   "outputs": [],
   "source": [
    "# Intervalo de la variable independiente\n",
    "t = np.linspace(ti,tf,100) "
   ]
  },
  {
   "cell_type": "code",
   "execution_count": 15,
   "metadata": {},
   "outputs": [
    {
     "name": "stdout",
     "output_type": "stream",
     "text": [
      "Aproximación de puntos Dk:7\n"
     ]
    }
   ],
   "source": [
    "# Constante N que indica la cantida de coeficientes Dk\n",
    "N = int(input('Aproximación de puntos Dk:'))"
   ]
  },
  {
   "cell_type": "code",
   "execution_count": 16,
   "metadata": {},
   "outputs": [],
   "source": [
    "# Creamos la funcion aproximada, llamando a la funcion SF, que genera la serie de fourier\n",
    "fa = SF(u,N,t)"
   ]
  },
  {
   "cell_type": "markdown",
   "metadata": {},
   "source": [
    "##### Calculos para los espectros de Amplitud y Fase"
   ]
  },
  {
   "cell_type": "markdown",
   "metadata": {},
   "source": [
    "A continuación se muestran los cálculos para crear el espectro de amplitud y frecuencia de la funcion original"
   ]
  },
  {
   "cell_type": "code",
   "execution_count": 17,
   "metadata": {},
   "outputs": [],
   "source": [
    "# Calculo de los coeficientes Dk\n",
    "dk_vec = [Dk(u, k) for k in range(-N, N+1)]\n",
    "# Calculo de las magnitudes\n",
    "mod_dk = [abs(dk) for dk in dk_vec]\n",
    "# Calculo de las fases\n",
    "phi_k = [np.angle(dk,deg = False) for dk in dk_vec]"
   ]
  },
  {
   "cell_type": "markdown",
   "metadata": {},
   "source": [
    "la funcion de *numpy* \"angle\" calcula la fase de un numero complejo, \"deg = False\" cambia el resultado de grados a radianes"
   ]
  },
  {
   "cell_type": "code",
   "execution_count": 18,
   "metadata": {},
   "outputs": [],
   "source": [
    "#Vector de frecuencias\n",
    "kf0 = 1/T * np.arange(-N,N+1)"
   ]
  },
  {
   "cell_type": "markdown",
   "metadata": {},
   "source": [
    "#### Graficas y tablas"
   ]
  },
  {
   "cell_type": "markdown",
   "metadata": {},
   "source": [
    "En esta sección se encuentra:\n",
    "* Grafica de comparación entre la funcion originbal y la función aproximada\n",
    "* Grafica de los espectros de amplitud y frecuencia de la funcion original\n",
    "* Tabla de valores de los espectros"
   ]
  },
  {
   "cell_type": "markdown",
   "metadata": {},
   "source": [
    "##### Comparación entre la función original y la función aproximada"
   ]
  },
  {
   "cell_type": "code",
   "execution_count": 19,
   "metadata": {},
   "outputs": [
    {
     "data": {
      "image/png": "[encoded data removed]",
      "text/plain": [
       "<Figure size 432x288 with 1 Axes>"
      ]
     },
     "metadata": {
      "needs_background": "light"
     },
     "output_type": "display_data"
    }
   ],
   "source": [
    "# Se crea la figura\n",
    "fig = plt.figure()\n",
    "\n",
    "# Se grafica el vector de la función original con respecto al vector de la variable independiente\n",
    "plt.plot(t, u(t), label='$f(t)$')\n",
    "\n",
    "# Se grafica el vector de la función aproximada con respecto al vector de la variable independiente\n",
    "plt.plot(t, fa.real, label='$f_a(t)$')\n",
    "\n",
    "# Se edita la figura\n",
    "plt.xlabel('$t$', fontsize=12)  # Se escribe la etiqueta del eje de la variable independiente en tamaño de letra 12\n",
    "plt.suptitle('Comparación de la función original con la aproximada', weight='bold')  # Se escribe el título de la gráfica\n",
    "plt.grid()  # Se grafica la cuadrícula\n",
    "plt.legend()  # Se imprime la leyenda\n",
    "\n",
    "# Mostrar la gráfica\n",
    "plt.show()"
   ]
  },
  {
   "cell_type": "markdown",
   "metadata": {},
   "source": [
    "##### Grafica de los espectros de amplitud y frecuencia"
   ]
  },
  {
   "cell_type": "code",
   "execution_count": 20,
   "metadata": {},
   "outputs": [
    {
     "data": {
      "text/plain": [
       "<Figure size 432x288 with 0 Axes>"
      ]
     },
     "metadata": {},
     "output_type": "display_data"
    },
    {
     "data": {
      "image/png": "[encoded data removed]",
      "text/plain": [
       "<Figure size 720x720 with 2 Axes>"
      ]
     },
     "metadata": {
      "needs_background": "light"
     },
     "output_type": "display_data"
    }
   ],
   "source": [
    "# Se crea la figura\n",
    "fig = plt.figure()\n",
    "plt.figure(figsize=(10, 10))\n",
    "\n",
    "# Se gráfica el espectro de amplitud\n",
    "plt.subplot(2,1,1)\n",
    "plt.title('Espectro de amplitud', weight='bold')  # Se escribe el título de la gráfica\n",
    "plt.plot(kf0, mod_dk,\"o\", linestyle = '')\n",
    "plt.xlabel('$kf0$', fontsize = 12)\n",
    "plt.ylabel('$|Dk|$', fontsize = 12)\n",
    "plt.grid()\n",
    "\n",
    "# Se grafica el espectro de fase\n",
    "plt.subplot(2,1,2)\n",
    "plt.title('Espectro de fase', weight='bold')  # Se escribe el título de la gráfica\n",
    "plt.plot(kf0, phi_k,\"o\",linestyle = '')\n",
    "plt.xlabel('$kf0$', fontsize = 12)\n",
    "plt.ylabel(r'$\\phi_k$', fontsize = 12)\n",
    "plt.grid()\n",
    "\n",
    "# Mostrar la gráfica\n",
    "plt.tight_layout()\n",
    "plt.show()"
   ]
  },
  {
   "cell_type": "markdown",
   "metadata": {},
   "source": [
    "##### Tabla de valores"
   ]
  },
  {
   "cell_type": "code",
   "execution_count": 21,
   "metadata": {},
   "outputs": [
    {
     "ename": "NameError",
     "evalue": "name 'tabulate' is not defined",
     "output_type": "error",
     "traceback": [
      "\u001b[0;31m---------------------------------------------------------------------------\u001b[0m",
      "\u001b[0;31mNameError\u001b[0m                                 Traceback (most recent call last)",
      "\u001b[0;32m<ipython-input-21-8a4feed98e27>\u001b[0m in \u001b[0;36m<module>\u001b[0;34m\u001b[0m\n\u001b[1;32m      4\u001b[0m \u001b[0;31m# Imprimir la tabla\u001b[0m\u001b[0;34m\u001b[0m\u001b[0;34m\u001b[0m\u001b[0;34m\u001b[0m\u001b[0m\n\u001b[1;32m      5\u001b[0m \u001b[0mencabezados\u001b[0m \u001b[0;34m=\u001b[0m \u001b[0;34m[\u001b[0m\u001b[0;34m'kf0'\u001b[0m\u001b[0;34m,\u001b[0m \u001b[0;34m'MOD Dk'\u001b[0m\u001b[0;34m,\u001b[0m \u001b[0;34m'k'\u001b[0m\u001b[0;34m,\u001b[0m \u001b[0;34m'Phi_k'\u001b[0m\u001b[0;34m]\u001b[0m\u001b[0;34m\u001b[0m\u001b[0;34m\u001b[0m\u001b[0m\n\u001b[0;32m----> 6\u001b[0;31m \u001b[0mprint\u001b[0m\u001b[0;34m(\u001b[0m\u001b[0mtabulate\u001b[0m\u001b[0;34m.\u001b[0m\u001b[0mtabulate\u001b[0m\u001b[0;34m(\u001b[0m\u001b[0mtabla\u001b[0m\u001b[0;34m,\u001b[0m \u001b[0mheaders\u001b[0m\u001b[0;34m=\u001b[0m\u001b[0mencabezados\u001b[0m\u001b[0;34m,\u001b[0m \u001b[0mtablefmt\u001b[0m\u001b[0;34m=\u001b[0m\u001b[0;34m'orgtbl'\u001b[0m\u001b[0;34m)\u001b[0m\u001b[0;34m)\u001b[0m\u001b[0;34m\u001b[0m\u001b[0;34m\u001b[0m\u001b[0m\n\u001b[0m",
      "\u001b[0;31mNameError\u001b[0m: name 'tabulate' is not defined"
     ]
    }
   ],
   "source": [
    "# Crea la tabla\n",
    "tabla = list(zip(kf0, mod_dk, range(-N, N+1), phi_k))\n",
    "\n",
    "# Imprimir la tabla\n",
    "encabezados = ['kf0', 'MOD Dk', 'k', 'Phi_k']\n",
    "print(tabulate.tabulate(tabla, headers=encabezados, tablefmt='orgtbl'))"
   ]
  },
  {
   "cell_type": "code",
   "execution_count": null,
   "metadata": {},
   "outputs": [],
   "source": []
  }
 ],
 "metadata": {
  "kernelspec": {
   "display_name": "Python 3",
   "language": "python",
   "name": "python3"
  },
  "language_info": {
   "codemirror_mode": {
    "name": "ipython",
    "version": 3
   },
   "file_extension": ".py",
   "mimetype": "text/x-python",
   "name": "python",
   "nbconvert_exporter": "python",
   "pygments_lexer": "ipython3",
   "version": "3.7.3"
  }
 },
 "nbformat": 4,
 "nbformat_minor": 2
}
